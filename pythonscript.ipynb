{
  "nbformat": 4,
  "nbformat_minor": 0,
  "metadata": {
    "colab": {
      "provenance": [],
      "authorship_tag": "ABX9TyPoovGt8CJOkKFhvhWETeah",
      "include_colab_link": true
    },
    "kernelspec": {
      "name": "python3",
      "display_name": "Python 3"
    },
    "language_info": {
      "name": "python"
    }
  },
  "cells": [
    {
      "cell_type": "markdown",
      "metadata": {
        "id": "view-in-github",
        "colab_type": "text"
      },
      "source": [
        "<a href=\"https://colab.research.google.com/github/Varshinigarlapati963/CodeTech-02/blob/main/pythonscript.ipynb\" target=\"_parent\"><img src=\"https://colab.research.google.com/assets/colab-badge.svg\" alt=\"Open In Colab\"/></a>"
      ]
    },
    {
      "cell_type": "code",
      "execution_count": 3,
      "metadata": {
        "colab": {
          "base_uri": "https://localhost:8080/"
        },
        "id": "WLyze3kAEGTZ",
        "outputId": "b42b9032-c1ff-43db-c62f-455684703c26"
      },
      "outputs": [
        {
          "output_type": "stream",
          "name": "stdout",
          "text": [
            "   Unnamed: 0                              Sales_ID Product_Category  \\\n",
            "0           0  efc35a5f-e48c-4803-9f6d-ef32a60e1367           Movies   \n",
            "1           1  92a86e42-de42-4e0d-89f3-bbb0b7f354bd     Pet Supplies   \n",
            "2           2  1fbbdc48-f405-48f3-8274-750581552d26          Outdoor   \n",
            "3           3  1f329e7a-13f0-4518-9eeb-84815301d64c      Electronics   \n",
            "4           4  6ef559dc-3e68-4009-9845-4bab54d897c6            Books   \n",
            "\n",
            "   Sales_Amount   Discount      Sales_Region Date_of_Sale  Customer_Age  \\\n",
            "0    341.050000  45.980000    East Dianeport   2024-07-12     69.000000   \n",
            "1    594.710000  29.590000       North Linda   2024-05-07     32.000000   \n",
            "2    351.900000  49.780000  Lake Josephmouth   2024-05-11     28.000000   \n",
            "3    550.170806  24.913682  North Martinside   2024-09-02     43.532544   \n",
            "4    795.750000  27.210000      Michealshire   2024-05-02     21.000000   \n",
            "\n",
            "  Customer_Gender Sales_Representative  \n",
            "0            Male      Bruce Rodriguez  \n",
            "1           Other        Patricia Pugh  \n",
            "2           Other        Kevin Fuentes  \n",
            "3             NaN         Evelyn Price  \n",
            "4           Other        Joseph Chavez  \n"
          ]
        }
      ],
      "source": [
        "import pandas as pd\n",
        "df = pd.read_csv('sales_100k_clean.csv')\n",
        "print(df.head(5))\n"
      ]
    },
    {
      "cell_type": "code",
      "source": [
        "pip install pandas matplotlib fpdf2\n"
      ],
      "metadata": {
        "colab": {
          "base_uri": "https://localhost:8080/"
        },
        "id": "H6ppXjL4FZCU",
        "outputId": "bc33b034-269e-4866-f8ca-0d641243b0ce"
      },
      "execution_count": 5,
      "outputs": [
        {
          "output_type": "stream",
          "name": "stdout",
          "text": [
            "Requirement already satisfied: pandas in /usr/local/lib/python3.11/dist-packages (2.2.2)\n",
            "Requirement already satisfied: matplotlib in /usr/local/lib/python3.11/dist-packages (3.10.0)\n",
            "Collecting fpdf2\n",
            "  Downloading fpdf2-2.8.3-py2.py3-none-any.whl.metadata (69 kB)\n",
            "\u001b[2K     \u001b[90m━━━━━━━━━━━━━━━━━━━━━━━━━━━━━━━━━━━━━━━\u001b[0m \u001b[32m69.7/69.7 kB\u001b[0m \u001b[31m341.0 kB/s\u001b[0m eta \u001b[36m0:00:00\u001b[0m\n",
            "\u001b[?25hRequirement already satisfied: numpy>=1.23.2 in /usr/local/lib/python3.11/dist-packages (from pandas) (2.0.2)\n",
            "Requirement already satisfied: python-dateutil>=2.8.2 in /usr/local/lib/python3.11/dist-packages (from pandas) (2.9.0.post0)\n",
            "Requirement already satisfied: pytz>=2020.1 in /usr/local/lib/python3.11/dist-packages (from pandas) (2025.2)\n",
            "Requirement already satisfied: tzdata>=2022.7 in /usr/local/lib/python3.11/dist-packages (from pandas) (2025.2)\n",
            "Requirement already satisfied: contourpy>=1.0.1 in /usr/local/lib/python3.11/dist-packages (from matplotlib) (1.3.2)\n",
            "Requirement already satisfied: cycler>=0.10 in /usr/local/lib/python3.11/dist-packages (from matplotlib) (0.12.1)\n",
            "Requirement already satisfied: fonttools>=4.22.0 in /usr/local/lib/python3.11/dist-packages (from matplotlib) (4.58.5)\n",
            "Requirement already satisfied: kiwisolver>=1.3.1 in /usr/local/lib/python3.11/dist-packages (from matplotlib) (1.4.8)\n",
            "Requirement already satisfied: packaging>=20.0 in /usr/local/lib/python3.11/dist-packages (from matplotlib) (25.0)\n",
            "Requirement already satisfied: pillow>=8 in /usr/local/lib/python3.11/dist-packages (from matplotlib) (11.2.1)\n",
            "Requirement already satisfied: pyparsing>=2.3.1 in /usr/local/lib/python3.11/dist-packages (from matplotlib) (3.2.3)\n",
            "Requirement already satisfied: defusedxml in /usr/local/lib/python3.11/dist-packages (from fpdf2) (0.7.1)\n",
            "Requirement already satisfied: six>=1.5 in /usr/local/lib/python3.11/dist-packages (from python-dateutil>=2.8.2->pandas) (1.17.0)\n",
            "Downloading fpdf2-2.8.3-py2.py3-none-any.whl (245 kB)\n",
            "\u001b[2K   \u001b[90m━━━━━━━━━━━━━━━━━━━━━━━━━━━━━━━━━━━━━━━━\u001b[0m \u001b[32m245.7/245.7 kB\u001b[0m \u001b[31m1.3 MB/s\u001b[0m eta \u001b[36m0:00:00\u001b[0m\n",
            "\u001b[?25hInstalling collected packages: fpdf2\n",
            "Successfully installed fpdf2-2.8.3\n"
          ]
        }
      ]
    },
    {
      "cell_type": "code",
      "source": [
        "import pandas as pd\n",
        "import matplotlib.pyplot as plt\n",
        "from fpdf import FPDF\n",
        "\n",
        "# Load the CSV\n",
        "df = pd.read_csv(\"sales_100k_clean.csv\")\n",
        "\n",
        "# Clean column if needed\n",
        "if 'Unnamed: 0' in df.columns:\n",
        "    df.drop(columns=['Unnamed: 0'], inplace=True)\n",
        "\n",
        "\n",
        "# ----------------------------\n",
        "# Step 1: Data Analysis\n",
        "# ----------------------------\n",
        "\n",
        "summary_stats = df[['Sales_Amount', 'Discount', 'Customer_Age']].describe()\n",
        "top_records = df.head(5)\n",
        "region_counts = df['Sales_Region'].value_counts().nlargest(10)\n",
        "product_counts = df['Product_Category'].value_counts().nlargest(10)\n",
        "gender_counts = df['Customer_Gender'].value_counts()\n",
        "\n",
        "# ----------------------------\n",
        "# Step 2: Charts\n",
        "# ----------------------------\n",
        "\n",
        "# Region bar chart\n",
        "region_counts.plot(kind='bar', title='Top 10 Sales Regions', color='cornflowerblue')\n",
        "plt.xlabel(\"Region\")\n",
        "plt.ylabel(\"Number of Sales\")\n",
        "plt.tight_layout()\n",
        "plt.savefig(\"region_chart.png\")\n",
        "plt.close()\n",
        "\n",
        "# Product category pie chart\n",
        "product_counts.plot(kind='pie', title='Top 10 Product Categories', autopct='%1.1f%%')\n",
        "plt.ylabel(\"\")\n",
        "plt.tight_layout()\n",
        "plt.savefig(\"product_pie.png\")\n",
        "plt.close()\n",
        "\n",
        "# Gender distribution\n",
        "gender_counts.plot(kind='bar', title='Customer Gender Distribution', color='orange')\n",
        "plt.xlabel(\"Gender\")\n",
        "plt.ylabel(\"Count\")\n",
        "plt.tight_layout()\n",
        "plt.savefig(\"gender_chart.png\")\n",
        "plt.close()\n",
        "\n",
        "# ----------------------------\n",
        "# Step 3: PDF Generation\n",
        "# ----------------------------\n",
        "\n",
        "pdf = FPDF()\n",
        "pdf.set_auto_page_break(auto=True, margin=15)\n",
        "\n",
        "# Title page\n",
        "pdf.add_page()\n",
        "pdf.set_font(\"Arial\", 'B', 20)\n",
        "pdf.cell(0, 10, \"Automated Sales Report\", ln=True, align='C')\n",
        "pdf.ln(10)\n",
        "pdf.set_font(\"Arial\", '', 12)\n",
        "pdf.cell(0, 10, \"Generated from sales_100k_clean.csv\", ln=True, align='C')\n",
        "pdf.ln(20)\n",
        "\n",
        "# Table of contents\n",
        "pdf.set_font(\"Arial\", 'B', 14)\n",
        "pdf.cell(0, 10, \"Table of Contents\", ln=True)\n",
        "pdf.set_font(\"Arial\", '', 12)\n",
        "pdf.cell(0, 10, \"1. Summary Statistics\", ln=True)\n",
        "pdf.cell(0, 10, \"2. Top 5 Sales Records\", ln=True)\n",
        "pdf.cell(0, 10, \"3. Region-wise Sales Chart\", ln=True)\n",
        "pdf.cell(0, 10, \"4. Product Category Pie Chart\", ln=True)\n",
        "pdf.cell(0, 10, \"5. Gender Distribution\", ln=True)\n",
        "\n",
        "# Section 1: Summary Stats\n",
        "pdf.set_font(\"Arial\", 'B', 14)\n",
        "pdf.cell(0, 10, \"1. Summary Statistics\", ln=True)\n",
        "pdf.set_font(\"Courier\", '', 10)\n",
        "for line in summary_stats.to_string().split('\\n'):\n",
        "    pdf.cell(0, 8, line, ln=True)\n",
        "\n",
        "# Section 2: Top 5 Records\n",
        "pdf.set_font(\"Arial\", 'B', 14)\n",
        "pdf.cell(0, 10, \"2. Top 5 Sales Records\", ln=True)\n",
        "pdf.set_font(\"Courier\", '', 9)\n",
        "for line in top_records.to_string(index=False).split('\\n'):\n",
        "    pdf.cell(0, 8, line, ln=True)\n",
        "\n",
        "# Section 3: Region Chart\n",
        "pdf.add_page()\n",
        "pdf.set_font(\"Arial\", 'B', 14)\n",
        "pdf.cell(0, 10, \"3. Region-wise Sales\", ln=True)\n",
        "pdf.image(\"region_chart.png\", w=180)\n",
        "\n",
        "# Section 4: Product Pie Chart\n",
        "pdf.add_page()\n",
        "pdf.set_font(\"Arial\", 'B', 14)\n",
        "pdf.cell(0, 10, \"4. Product Category Distribution\", ln=True)\n",
        "pdf.image(\"product_pie.png\", w=180)\n",
        "\n",
        "# Section 5: Gender Distribution\n",
        "pdf.add_page()\n",
        "pdf.set_font(\"Arial\", 'B', 14)\n",
        "pdf.cell(0, 10, \"5. Gender Distribution\", ln=True)\n",
        "pdf.image(\"gender_chart.png\", w=180)\n",
        "\n",
        "\n",
        "# Final output\n",
        "pdf.output(\"sales_report_final.pdf\")\n",
        "print(\"✅ Report generated: sales_report_final.pdf\")\n"
      ],
      "metadata": {
        "colab": {
          "base_uri": "https://localhost:8080/"
        },
        "id": "EuW4JH2UF4qX",
        "outputId": "72515c8f-fac3-45e1-bec1-e4f2416a84e3"
      },
      "execution_count": 10,
      "outputs": [
        {
          "output_type": "stream",
          "name": "stdout",
          "text": [
            "✅ Report generated: sales_report_final.pdf\n"
          ]
        },
        {
          "output_type": "stream",
          "name": "stderr",
          "text": [
            "/tmp/ipython-input-10-4280207796.py:59: DeprecationWarning: Substituting font arial by core font helvetica - This is deprecated since v2.7.8, and will soon be removed\n",
            "  pdf.set_font(\"Arial\", 'B', 20)\n",
            "/tmp/ipython-input-10-4280207796.py:60: DeprecationWarning: The parameter \"ln\" is deprecated since v2.5.2. Instead of ln=True use new_x=XPos.LMARGIN, new_y=YPos.NEXT.\n",
            "  pdf.cell(0, 10, \"Automated Sales Report\", ln=True, align='C')\n",
            "/tmp/ipython-input-10-4280207796.py:62: DeprecationWarning: Substituting font arial by core font helvetica - This is deprecated since v2.7.8, and will soon be removed\n",
            "  pdf.set_font(\"Arial\", '', 12)\n",
            "/tmp/ipython-input-10-4280207796.py:63: DeprecationWarning: The parameter \"ln\" is deprecated since v2.5.2. Instead of ln=True use new_x=XPos.LMARGIN, new_y=YPos.NEXT.\n",
            "  pdf.cell(0, 10, \"Generated from sales_100k_clean.csv\", ln=True, align='C')\n",
            "/tmp/ipython-input-10-4280207796.py:67: DeprecationWarning: Substituting font arial by core font helvetica - This is deprecated since v2.7.8, and will soon be removed\n",
            "  pdf.set_font(\"Arial\", 'B', 14)\n",
            "/tmp/ipython-input-10-4280207796.py:68: DeprecationWarning: The parameter \"ln\" is deprecated since v2.5.2. Instead of ln=True use new_x=XPos.LMARGIN, new_y=YPos.NEXT.\n",
            "  pdf.cell(0, 10, \"Table of Contents\", ln=True)\n",
            "/tmp/ipython-input-10-4280207796.py:69: DeprecationWarning: Substituting font arial by core font helvetica - This is deprecated since v2.7.8, and will soon be removed\n",
            "  pdf.set_font(\"Arial\", '', 12)\n",
            "/tmp/ipython-input-10-4280207796.py:70: DeprecationWarning: The parameter \"ln\" is deprecated since v2.5.2. Instead of ln=True use new_x=XPos.LMARGIN, new_y=YPos.NEXT.\n",
            "  pdf.cell(0, 10, \"1. Summary Statistics\", ln=True)\n",
            "/tmp/ipython-input-10-4280207796.py:71: DeprecationWarning: The parameter \"ln\" is deprecated since v2.5.2. Instead of ln=True use new_x=XPos.LMARGIN, new_y=YPos.NEXT.\n",
            "  pdf.cell(0, 10, \"2. Top 5 Sales Records\", ln=True)\n",
            "/tmp/ipython-input-10-4280207796.py:72: DeprecationWarning: The parameter \"ln\" is deprecated since v2.5.2. Instead of ln=True use new_x=XPos.LMARGIN, new_y=YPos.NEXT.\n",
            "  pdf.cell(0, 10, \"3. Region-wise Sales Chart\", ln=True)\n",
            "/tmp/ipython-input-10-4280207796.py:73: DeprecationWarning: The parameter \"ln\" is deprecated since v2.5.2. Instead of ln=True use new_x=XPos.LMARGIN, new_y=YPos.NEXT.\n",
            "  pdf.cell(0, 10, \"4. Product Category Pie Chart\", ln=True)\n",
            "/tmp/ipython-input-10-4280207796.py:74: DeprecationWarning: The parameter \"ln\" is deprecated since v2.5.2. Instead of ln=True use new_x=XPos.LMARGIN, new_y=YPos.NEXT.\n",
            "  pdf.cell(0, 10, \"5. Gender Distribution\", ln=True)\n",
            "/tmp/ipython-input-10-4280207796.py:77: DeprecationWarning: Substituting font arial by core font helvetica - This is deprecated since v2.7.8, and will soon be removed\n",
            "  pdf.set_font(\"Arial\", 'B', 14)\n",
            "/tmp/ipython-input-10-4280207796.py:78: DeprecationWarning: The parameter \"ln\" is deprecated since v2.5.2. Instead of ln=True use new_x=XPos.LMARGIN, new_y=YPos.NEXT.\n",
            "  pdf.cell(0, 10, \"1. Summary Statistics\", ln=True)\n",
            "/tmp/ipython-input-10-4280207796.py:81: DeprecationWarning: The parameter \"ln\" is deprecated since v2.5.2. Instead of ln=True use new_x=XPos.LMARGIN, new_y=YPos.NEXT.\n",
            "  pdf.cell(0, 8, line, ln=True)\n",
            "/tmp/ipython-input-10-4280207796.py:84: DeprecationWarning: Substituting font arial by core font helvetica - This is deprecated since v2.7.8, and will soon be removed\n",
            "  pdf.set_font(\"Arial\", 'B', 14)\n",
            "/tmp/ipython-input-10-4280207796.py:85: DeprecationWarning: The parameter \"ln\" is deprecated since v2.5.2. Instead of ln=True use new_x=XPos.LMARGIN, new_y=YPos.NEXT.\n",
            "  pdf.cell(0, 10, \"2. Top 5 Sales Records\", ln=True)\n",
            "/tmp/ipython-input-10-4280207796.py:88: DeprecationWarning: The parameter \"ln\" is deprecated since v2.5.2. Instead of ln=True use new_x=XPos.LMARGIN, new_y=YPos.NEXT.\n",
            "  pdf.cell(0, 8, line, ln=True)\n",
            "/tmp/ipython-input-10-4280207796.py:92: DeprecationWarning: Substituting font arial by core font helvetica - This is deprecated since v2.7.8, and will soon be removed\n",
            "  pdf.set_font(\"Arial\", 'B', 14)\n",
            "/tmp/ipython-input-10-4280207796.py:93: DeprecationWarning: The parameter \"ln\" is deprecated since v2.5.2. Instead of ln=True use new_x=XPos.LMARGIN, new_y=YPos.NEXT.\n",
            "  pdf.cell(0, 10, \"3. Region-wise Sales\", ln=True)\n",
            "/tmp/ipython-input-10-4280207796.py:98: DeprecationWarning: Substituting font arial by core font helvetica - This is deprecated since v2.7.8, and will soon be removed\n",
            "  pdf.set_font(\"Arial\", 'B', 14)\n",
            "/tmp/ipython-input-10-4280207796.py:99: DeprecationWarning: The parameter \"ln\" is deprecated since v2.5.2. Instead of ln=True use new_x=XPos.LMARGIN, new_y=YPos.NEXT.\n",
            "  pdf.cell(0, 10, \"4. Product Category Distribution\", ln=True)\n",
            "/tmp/ipython-input-10-4280207796.py:104: DeprecationWarning: Substituting font arial by core font helvetica - This is deprecated since v2.7.8, and will soon be removed\n",
            "  pdf.set_font(\"Arial\", 'B', 14)\n",
            "/tmp/ipython-input-10-4280207796.py:105: DeprecationWarning: The parameter \"ln\" is deprecated since v2.5.2. Instead of ln=True use new_x=XPos.LMARGIN, new_y=YPos.NEXT.\n",
            "  pdf.cell(0, 10, \"5. Gender Distribution\", ln=True)\n"
          ]
        }
      ]
    }
  ]
}